{
 "cells": [
  {
   "cell_type": "code",
   "execution_count": 8,
   "id": "43f7a903-d6c9-4329-84cb-a61e2a88dece",
   "metadata": {
    "tags": []
   },
   "outputs": [],
   "source": [
    "import yfinance as yf\n",
    "import pandas as pd\n",
    "import requests\n",
    "from bs4 import BeautifulSoup"
   ]
  },
  {
   "cell_type": "markdown",
   "id": "ed1d4faa-6585-4f2b-bd75-f84e071c0320",
   "metadata": {},
   "source": [
    "## Question 1: Use yfinance to Extract StockData"
   ]
  },
  {
   "cell_type": "code",
   "execution_count": 97,
   "id": "bde89d9e-3a38-4a6d-978c-9b05fec15054",
   "metadata": {
    "tags": []
   },
   "outputs": [],
   "source": [
    "tesla_stock = yf.Ticker('TSLA')"
   ]
  },
  {
   "cell_type": "code",
   "execution_count": 98,
   "id": "23fc8640-5886-4ea5-aeab-2e94380c7c15",
   "metadata": {
    "tags": []
   },
   "outputs": [],
   "source": [
    "tesla_stock_data = tesla_stock.history(period = \"max\")\n",
    "tesla_stock_data.reset_index(inplace = True)"
   ]
  },
  {
   "cell_type": "code",
   "execution_count": 99,
   "id": "6b0befbf-d708-4e7f-823e-1d69897002d0",
   "metadata": {
    "tags": []
   },
   "outputs": [
    {
     "data": {
      "text/html": [
       "<div>\n",
       "<style scoped>\n",
       "    .dataframe tbody tr th:only-of-type {\n",
       "        vertical-align: middle;\n",
       "    }\n",
       "\n",
       "    .dataframe tbody tr th {\n",
       "        vertical-align: top;\n",
       "    }\n",
       "\n",
       "    .dataframe thead th {\n",
       "        text-align: right;\n",
       "    }\n",
       "</style>\n",
       "<table border=\"1\" class=\"dataframe\">\n",
       "  <thead>\n",
       "    <tr style=\"text-align: right;\">\n",
       "      <th></th>\n",
       "      <th>Date</th>\n",
       "      <th>Open</th>\n",
       "      <th>High</th>\n",
       "      <th>Low</th>\n",
       "      <th>Close</th>\n",
       "      <th>Volume</th>\n",
       "      <th>Dividends</th>\n",
       "      <th>Stock Splits</th>\n",
       "    </tr>\n",
       "  </thead>\n",
       "  <tbody>\n",
       "    <tr>\n",
       "      <th>0</th>\n",
       "      <td>2010-06-29 00:00:00-04:00</td>\n",
       "      <td>1.266667</td>\n",
       "      <td>1.666667</td>\n",
       "      <td>1.169333</td>\n",
       "      <td>1.592667</td>\n",
       "      <td>281494500</td>\n",
       "      <td>0.0</td>\n",
       "      <td>0.0</td>\n",
       "    </tr>\n",
       "    <tr>\n",
       "      <th>1</th>\n",
       "      <td>2010-06-30 00:00:00-04:00</td>\n",
       "      <td>1.719333</td>\n",
       "      <td>2.028000</td>\n",
       "      <td>1.553333</td>\n",
       "      <td>1.588667</td>\n",
       "      <td>257806500</td>\n",
       "      <td>0.0</td>\n",
       "      <td>0.0</td>\n",
       "    </tr>\n",
       "    <tr>\n",
       "      <th>2</th>\n",
       "      <td>2010-07-01 00:00:00-04:00</td>\n",
       "      <td>1.666667</td>\n",
       "      <td>1.728000</td>\n",
       "      <td>1.351333</td>\n",
       "      <td>1.464000</td>\n",
       "      <td>123282000</td>\n",
       "      <td>0.0</td>\n",
       "      <td>0.0</td>\n",
       "    </tr>\n",
       "    <tr>\n",
       "      <th>3</th>\n",
       "      <td>2010-07-02 00:00:00-04:00</td>\n",
       "      <td>1.533333</td>\n",
       "      <td>1.540000</td>\n",
       "      <td>1.247333</td>\n",
       "      <td>1.280000</td>\n",
       "      <td>77097000</td>\n",
       "      <td>0.0</td>\n",
       "      <td>0.0</td>\n",
       "    </tr>\n",
       "    <tr>\n",
       "      <th>4</th>\n",
       "      <td>2010-07-06 00:00:00-04:00</td>\n",
       "      <td>1.333333</td>\n",
       "      <td>1.333333</td>\n",
       "      <td>1.055333</td>\n",
       "      <td>1.074000</td>\n",
       "      <td>103003500</td>\n",
       "      <td>0.0</td>\n",
       "      <td>0.0</td>\n",
       "    </tr>\n",
       "  </tbody>\n",
       "</table>\n",
       "</div>"
      ],
      "text/plain": [
       "                       Date      Open      High       Low     Close  \\\n",
       "0 2010-06-29 00:00:00-04:00  1.266667  1.666667  1.169333  1.592667   \n",
       "1 2010-06-30 00:00:00-04:00  1.719333  2.028000  1.553333  1.588667   \n",
       "2 2010-07-01 00:00:00-04:00  1.666667  1.728000  1.351333  1.464000   \n",
       "3 2010-07-02 00:00:00-04:00  1.533333  1.540000  1.247333  1.280000   \n",
       "4 2010-07-06 00:00:00-04:00  1.333333  1.333333  1.055333  1.074000   \n",
       "\n",
       "      Volume  Dividends  Stock Splits  \n",
       "0  281494500        0.0           0.0  \n",
       "1  257806500        0.0           0.0  \n",
       "2  123282000        0.0           0.0  \n",
       "3   77097000        0.0           0.0  \n",
       "4  103003500        0.0           0.0  "
      ]
     },
     "execution_count": 99,
     "metadata": {},
     "output_type": "execute_result"
    }
   ],
   "source": [
    "tesla_stock_data.head(5)"
   ]
  },
  {
   "cell_type": "code",
   "execution_count": null,
   "id": "a572fdc3-9029-40e7-a59c-faf3f1f9e19f",
   "metadata": {},
   "outputs": [],
   "source": []
  },
  {
   "cell_type": "code",
   "execution_count": null,
   "id": "8b795344-612a-4304-ac26-a4c3113da2c1",
   "metadata": {},
   "outputs": [],
   "source": []
  },
  {
   "cell_type": "code",
   "execution_count": null,
   "id": "60c9cf84-013c-4205-ba5a-8694f0756a37",
   "metadata": {},
   "outputs": [],
   "source": []
  },
  {
   "cell_type": "code",
   "execution_count": null,
   "id": "4f8653f5-c36e-4f61-9d10-a63619c49d84",
   "metadata": {},
   "outputs": [],
   "source": []
  },
  {
   "cell_type": "markdown",
   "id": "ae4c73e9-f12b-4bc2-8e4a-7faeb927192a",
   "metadata": {
    "tags": []
   },
   "source": [
    "## Question 2 : Use webscrapping to Extract Tesla Revenue data"
   ]
  },
  {
   "cell_type": "code",
   "execution_count": 129,
   "id": "92874433-d8c7-4fe7-ba76-dd84ae8d952e",
   "metadata": {},
   "outputs": [],
   "source": [
    "url = 'https://www.macrotrends.net/stocks/charts/TSLA/tesla/revenue'\n",
    "tesla_rev_html = requests.get(url).text\n",
    "\n",
    "BS = BeautifulSoup(tesla_rev_html, 'html5lib')\n",
    "tables = BS.find_all('table')\n",
    "table0_rows = tables[0].find('tbody').find_all('tr')\n",
    "\n",
    "tesla_rev_data = pd.DataFrame(columns = ['Year' , 'Revenue'])"
   ]
  },
  {
   "cell_type": "code",
   "execution_count": 130,
   "id": "9651d8a6-5ef5-4c2f-80c4-d0559d1a29da",
   "metadata": {
    "collapsed": true,
    "jupyter": {
     "outputs_hidden": true
    },
    "tags": []
   },
   "outputs": [
    {
     "name": "stderr",
     "output_type": "stream",
     "text": [
      "C:\\Users\\siddh\\AppData\\Local\\Temp\\ipykernel_16076\\2602496217.py:8: FutureWarning: The frame.append method is deprecated and will be removed from pandas in a future version. Use pandas.concat instead.\n",
      "  tesla_rev_data = tesla_rev_data.append({'Year' : int(Year) , 'Revenue' : int(Revenue)},  ignore_index = True)\n",
      "C:\\Users\\siddh\\AppData\\Local\\Temp\\ipykernel_16076\\2602496217.py:8: FutureWarning: The frame.append method is deprecated and will be removed from pandas in a future version. Use pandas.concat instead.\n",
      "  tesla_rev_data = tesla_rev_data.append({'Year' : int(Year) , 'Revenue' : int(Revenue)},  ignore_index = True)\n",
      "C:\\Users\\siddh\\AppData\\Local\\Temp\\ipykernel_16076\\2602496217.py:8: FutureWarning: The frame.append method is deprecated and will be removed from pandas in a future version. Use pandas.concat instead.\n",
      "  tesla_rev_data = tesla_rev_data.append({'Year' : int(Year) , 'Revenue' : int(Revenue)},  ignore_index = True)\n",
      "C:\\Users\\siddh\\AppData\\Local\\Temp\\ipykernel_16076\\2602496217.py:8: FutureWarning: The frame.append method is deprecated and will be removed from pandas in a future version. Use pandas.concat instead.\n",
      "  tesla_rev_data = tesla_rev_data.append({'Year' : int(Year) , 'Revenue' : int(Revenue)},  ignore_index = True)\n",
      "C:\\Users\\siddh\\AppData\\Local\\Temp\\ipykernel_16076\\2602496217.py:8: FutureWarning: The frame.append method is deprecated and will be removed from pandas in a future version. Use pandas.concat instead.\n",
      "  tesla_rev_data = tesla_rev_data.append({'Year' : int(Year) , 'Revenue' : int(Revenue)},  ignore_index = True)\n",
      "C:\\Users\\siddh\\AppData\\Local\\Temp\\ipykernel_16076\\2602496217.py:8: FutureWarning: The frame.append method is deprecated and will be removed from pandas in a future version. Use pandas.concat instead.\n",
      "  tesla_rev_data = tesla_rev_data.append({'Year' : int(Year) , 'Revenue' : int(Revenue)},  ignore_index = True)\n",
      "C:\\Users\\siddh\\AppData\\Local\\Temp\\ipykernel_16076\\2602496217.py:8: FutureWarning: The frame.append method is deprecated and will be removed from pandas in a future version. Use pandas.concat instead.\n",
      "  tesla_rev_data = tesla_rev_data.append({'Year' : int(Year) , 'Revenue' : int(Revenue)},  ignore_index = True)\n",
      "C:\\Users\\siddh\\AppData\\Local\\Temp\\ipykernel_16076\\2602496217.py:8: FutureWarning: The frame.append method is deprecated and will be removed from pandas in a future version. Use pandas.concat instead.\n",
      "  tesla_rev_data = tesla_rev_data.append({'Year' : int(Year) , 'Revenue' : int(Revenue)},  ignore_index = True)\n",
      "C:\\Users\\siddh\\AppData\\Local\\Temp\\ipykernel_16076\\2602496217.py:8: FutureWarning: The frame.append method is deprecated and will be removed from pandas in a future version. Use pandas.concat instead.\n",
      "  tesla_rev_data = tesla_rev_data.append({'Year' : int(Year) , 'Revenue' : int(Revenue)},  ignore_index = True)\n",
      "C:\\Users\\siddh\\AppData\\Local\\Temp\\ipykernel_16076\\2602496217.py:8: FutureWarning: The frame.append method is deprecated and will be removed from pandas in a future version. Use pandas.concat instead.\n",
      "  tesla_rev_data = tesla_rev_data.append({'Year' : int(Year) , 'Revenue' : int(Revenue)},  ignore_index = True)\n",
      "C:\\Users\\siddh\\AppData\\Local\\Temp\\ipykernel_16076\\2602496217.py:8: FutureWarning: The frame.append method is deprecated and will be removed from pandas in a future version. Use pandas.concat instead.\n",
      "  tesla_rev_data = tesla_rev_data.append({'Year' : int(Year) , 'Revenue' : int(Revenue)},  ignore_index = True)\n",
      "C:\\Users\\siddh\\AppData\\Local\\Temp\\ipykernel_16076\\2602496217.py:8: FutureWarning: The frame.append method is deprecated and will be removed from pandas in a future version. Use pandas.concat instead.\n",
      "  tesla_rev_data = tesla_rev_data.append({'Year' : int(Year) , 'Revenue' : int(Revenue)},  ignore_index = True)\n",
      "C:\\Users\\siddh\\AppData\\Local\\Temp\\ipykernel_16076\\2602496217.py:8: FutureWarning: The frame.append method is deprecated and will be removed from pandas in a future version. Use pandas.concat instead.\n",
      "  tesla_rev_data = tesla_rev_data.append({'Year' : int(Year) , 'Revenue' : int(Revenue)},  ignore_index = True)\n",
      "C:\\Users\\siddh\\AppData\\Local\\Temp\\ipykernel_16076\\2602496217.py:8: FutureWarning: The frame.append method is deprecated and will be removed from pandas in a future version. Use pandas.concat instead.\n",
      "  tesla_rev_data = tesla_rev_data.append({'Year' : int(Year) , 'Revenue' : int(Revenue)},  ignore_index = True)\n"
     ]
    }
   ],
   "source": [
    "for row in table0_rows:\n",
    "    col  =  row.find_all('td')\n",
    "   # print(col)\n",
    "    Year = col[0].text\n",
    "    Revenue = col[1].text \n",
    "    Revenue = Revenue.replace('$','')\n",
    "    Revenue = Revenue.replace(',','')\n",
    "    tesla_rev_data = tesla_rev_data.append({'Year' : int(Year) , 'Revenue' : int(Revenue)},  ignore_index = True)\n",
    "    "
   ]
  },
  {
   "cell_type": "code",
   "execution_count": 131,
   "id": "dc1bbe46-65fe-47c3-9668-9fbeeba7dff2",
   "metadata": {
    "tags": []
   },
   "outputs": [
    {
     "data": {
      "text/html": [
       "<div>\n",
       "<style scoped>\n",
       "    .dataframe tbody tr th:only-of-type {\n",
       "        vertical-align: middle;\n",
       "    }\n",
       "\n",
       "    .dataframe tbody tr th {\n",
       "        vertical-align: top;\n",
       "    }\n",
       "\n",
       "    .dataframe thead th {\n",
       "        text-align: right;\n",
       "    }\n",
       "</style>\n",
       "<table border=\"1\" class=\"dataframe\">\n",
       "  <thead>\n",
       "    <tr style=\"text-align: right;\">\n",
       "      <th></th>\n",
       "      <th>Year</th>\n",
       "      <th>Revenue</th>\n",
       "    </tr>\n",
       "  </thead>\n",
       "  <tbody>\n",
       "    <tr>\n",
       "      <th>9</th>\n",
       "      <td>2013</td>\n",
       "      <td>2013</td>\n",
       "    </tr>\n",
       "    <tr>\n",
       "      <th>10</th>\n",
       "      <td>2012</td>\n",
       "      <td>413</td>\n",
       "    </tr>\n",
       "    <tr>\n",
       "      <th>11</th>\n",
       "      <td>2011</td>\n",
       "      <td>204</td>\n",
       "    </tr>\n",
       "    <tr>\n",
       "      <th>12</th>\n",
       "      <td>2010</td>\n",
       "      <td>117</td>\n",
       "    </tr>\n",
       "    <tr>\n",
       "      <th>13</th>\n",
       "      <td>2009</td>\n",
       "      <td>112</td>\n",
       "    </tr>\n",
       "  </tbody>\n",
       "</table>\n",
       "</div>"
      ],
      "text/plain": [
       "    Year Revenue\n",
       "9   2013    2013\n",
       "10  2012     413\n",
       "11  2011     204\n",
       "12  2010     117\n",
       "13  2009     112"
      ]
     },
     "execution_count": 131,
     "metadata": {},
     "output_type": "execute_result"
    }
   ],
   "source": [
    "tesla_rev_data.tail(5)"
   ]
  },
  {
   "cell_type": "markdown",
   "id": "6885ae7a-b29f-4ab5-abcd-3c84074a1729",
   "metadata": {},
   "source": [
    "## Question 3 : Use Yfinance to Extract GME Stock data"
   ]
  },
  {
   "cell_type": "code",
   "execution_count": 100,
   "id": "17742aca-bbe2-4c8f-872f-be34e43e6922",
   "metadata": {
    "tags": []
   },
   "outputs": [],
   "source": [
    "GME_stock = yf.Ticker('GME')"
   ]
  },
  {
   "cell_type": "code",
   "execution_count": 101,
   "id": "cd04d349-f4d9-42f8-9fb9-cd954a12079b",
   "metadata": {
    "tags": []
   },
   "outputs": [],
   "source": [
    "GME_stock_data = GME_stock.history(period = 'max')\n",
    "GME_stock_data.reset_index(inplace = True)"
   ]
  },
  {
   "cell_type": "code",
   "execution_count": 102,
   "id": "ac0e9b86-bd46-42ab-be67-e9083fb2d09b",
   "metadata": {
    "tags": []
   },
   "outputs": [
    {
     "data": {
      "text/html": [
       "<div>\n",
       "<style scoped>\n",
       "    .dataframe tbody tr th:only-of-type {\n",
       "        vertical-align: middle;\n",
       "    }\n",
       "\n",
       "    .dataframe tbody tr th {\n",
       "        vertical-align: top;\n",
       "    }\n",
       "\n",
       "    .dataframe thead th {\n",
       "        text-align: right;\n",
       "    }\n",
       "</style>\n",
       "<table border=\"1\" class=\"dataframe\">\n",
       "  <thead>\n",
       "    <tr style=\"text-align: right;\">\n",
       "      <th></th>\n",
       "      <th>Date</th>\n",
       "      <th>Open</th>\n",
       "      <th>High</th>\n",
       "      <th>Low</th>\n",
       "      <th>Close</th>\n",
       "      <th>Volume</th>\n",
       "      <th>Dividends</th>\n",
       "      <th>Stock Splits</th>\n",
       "    </tr>\n",
       "  </thead>\n",
       "  <tbody>\n",
       "    <tr>\n",
       "      <th>0</th>\n",
       "      <td>2002-02-13 00:00:00-05:00</td>\n",
       "      <td>1.620129</td>\n",
       "      <td>1.693350</td>\n",
       "      <td>1.603296</td>\n",
       "      <td>1.691667</td>\n",
       "      <td>76216000</td>\n",
       "      <td>0.0</td>\n",
       "      <td>0.0</td>\n",
       "    </tr>\n",
       "    <tr>\n",
       "      <th>1</th>\n",
       "      <td>2002-02-14 00:00:00-05:00</td>\n",
       "      <td>1.712707</td>\n",
       "      <td>1.716074</td>\n",
       "      <td>1.670626</td>\n",
       "      <td>1.683250</td>\n",
       "      <td>11021600</td>\n",
       "      <td>0.0</td>\n",
       "      <td>0.0</td>\n",
       "    </tr>\n",
       "    <tr>\n",
       "      <th>2</th>\n",
       "      <td>2002-02-15 00:00:00-05:00</td>\n",
       "      <td>1.683250</td>\n",
       "      <td>1.687458</td>\n",
       "      <td>1.658001</td>\n",
       "      <td>1.674834</td>\n",
       "      <td>8389600</td>\n",
       "      <td>0.0</td>\n",
       "      <td>0.0</td>\n",
       "    </tr>\n",
       "    <tr>\n",
       "      <th>3</th>\n",
       "      <td>2002-02-19 00:00:00-05:00</td>\n",
       "      <td>1.666418</td>\n",
       "      <td>1.666418</td>\n",
       "      <td>1.578047</td>\n",
       "      <td>1.607504</td>\n",
       "      <td>7410400</td>\n",
       "      <td>0.0</td>\n",
       "      <td>0.0</td>\n",
       "    </tr>\n",
       "    <tr>\n",
       "      <th>4</th>\n",
       "      <td>2002-02-20 00:00:00-05:00</td>\n",
       "      <td>1.615920</td>\n",
       "      <td>1.662210</td>\n",
       "      <td>1.603296</td>\n",
       "      <td>1.662210</td>\n",
       "      <td>6892800</td>\n",
       "      <td>0.0</td>\n",
       "      <td>0.0</td>\n",
       "    </tr>\n",
       "  </tbody>\n",
       "</table>\n",
       "</div>"
      ],
      "text/plain": [
       "                       Date      Open      High       Low     Close    Volume  \\\n",
       "0 2002-02-13 00:00:00-05:00  1.620129  1.693350  1.603296  1.691667  76216000   \n",
       "1 2002-02-14 00:00:00-05:00  1.712707  1.716074  1.670626  1.683250  11021600   \n",
       "2 2002-02-15 00:00:00-05:00  1.683250  1.687458  1.658001  1.674834   8389600   \n",
       "3 2002-02-19 00:00:00-05:00  1.666418  1.666418  1.578047  1.607504   7410400   \n",
       "4 2002-02-20 00:00:00-05:00  1.615920  1.662210  1.603296  1.662210   6892800   \n",
       "\n",
       "   Dividends  Stock Splits  \n",
       "0        0.0           0.0  \n",
       "1        0.0           0.0  \n",
       "2        0.0           0.0  \n",
       "3        0.0           0.0  \n",
       "4        0.0           0.0  "
      ]
     },
     "execution_count": 102,
     "metadata": {},
     "output_type": "execute_result"
    }
   ],
   "source": [
    "GME_stock_data.head(5)"
   ]
  },
  {
   "cell_type": "code",
   "execution_count": null,
   "id": "b3144122-82cb-4159-931b-f632c02f531b",
   "metadata": {},
   "outputs": [],
   "source": []
  },
  {
   "cell_type": "code",
   "execution_count": null,
   "id": "66974c0b-3cbb-4712-bbaf-599e1c1f4530",
   "metadata": {},
   "outputs": [],
   "source": []
  },
  {
   "cell_type": "code",
   "execution_count": null,
   "id": "e3810fb8-643e-4f58-b78c-ba7236305440",
   "metadata": {},
   "outputs": [],
   "source": []
  },
  {
   "cell_type": "code",
   "execution_count": null,
   "id": "bd754abc-a925-4f9f-aa20-69a5d4c313b9",
   "metadata": {},
   "outputs": [],
   "source": []
  },
  {
   "cell_type": "code",
   "execution_count": null,
   "id": "95856406-2bfd-41fa-95f6-fab881c72b81",
   "metadata": {},
   "outputs": [],
   "source": []
  },
  {
   "cell_type": "code",
   "execution_count": null,
   "id": "ab3586ef-0722-4032-b93f-a6d8d581d2b7",
   "metadata": {},
   "outputs": [],
   "source": []
  },
  {
   "cell_type": "code",
   "execution_count": null,
   "id": "8a3b2343-9290-4732-8d70-1e62ad7c54e0",
   "metadata": {},
   "outputs": [],
   "source": []
  },
  {
   "cell_type": "markdown",
   "id": "be803cd5-145b-4b9f-9005-f8b7bd1bf23f",
   "metadata": {},
   "source": [
    "## Question 4 : Use Webscraping to Extract GME Revenue data"
   ]
  },
  {
   "cell_type": "code",
   "execution_count": 124,
   "id": "ef609082-1c99-4731-ad69-6a5ed8ef13c9",
   "metadata": {
    "tags": []
   },
   "outputs": [],
   "source": [
    "url = 'https://www.macrotrends.net/stocks/charts/GME/gamestop/revenue'\n",
    "GME_rev_html = requests.get(url).text\n",
    "GME_BS = BeautifulSoup(GME_rev_html)\n",
    "GME_tables = GME_BS.find_all('table')\n"
   ]
  },
  {
   "cell_type": "code",
   "execution_count": 125,
   "id": "3ffbcf2f-ec43-4f49-bed0-4395105d49ad",
   "metadata": {
    "tags": []
   },
   "outputs": [],
   "source": [
    "GME_rev_data = pd.DataFrame(columns = ['Year' , 'Revenue'])\n"
   ]
  },
  {
   "cell_type": "code",
   "execution_count": 126,
   "id": "e4468482-1e81-4f6d-ac06-7ebb5daf1496",
   "metadata": {
    "collapsed": true,
    "jupyter": {
     "outputs_hidden": true
    },
    "tags": []
   },
   "outputs": [
    {
     "name": "stderr",
     "output_type": "stream",
     "text": [
      "C:\\Users\\siddh\\AppData\\Local\\Temp\\ipykernel_16076\\4291315426.py:9: FutureWarning: The frame.append method is deprecated and will be removed from pandas in a future version. Use pandas.concat instead.\n",
      "  GME_rev_data = GME_rev_data.append({'Year': int(Year) , 'Revenue' : int(Revenue)} , ignore_index = True)\n",
      "C:\\Users\\siddh\\AppData\\Local\\Temp\\ipykernel_16076\\4291315426.py:9: FutureWarning: The frame.append method is deprecated and will be removed from pandas in a future version. Use pandas.concat instead.\n",
      "  GME_rev_data = GME_rev_data.append({'Year': int(Year) , 'Revenue' : int(Revenue)} , ignore_index = True)\n",
      "C:\\Users\\siddh\\AppData\\Local\\Temp\\ipykernel_16076\\4291315426.py:9: FutureWarning: The frame.append method is deprecated and will be removed from pandas in a future version. Use pandas.concat instead.\n",
      "  GME_rev_data = GME_rev_data.append({'Year': int(Year) , 'Revenue' : int(Revenue)} , ignore_index = True)\n",
      "C:\\Users\\siddh\\AppData\\Local\\Temp\\ipykernel_16076\\4291315426.py:9: FutureWarning: The frame.append method is deprecated and will be removed from pandas in a future version. Use pandas.concat instead.\n",
      "  GME_rev_data = GME_rev_data.append({'Year': int(Year) , 'Revenue' : int(Revenue)} , ignore_index = True)\n",
      "C:\\Users\\siddh\\AppData\\Local\\Temp\\ipykernel_16076\\4291315426.py:9: FutureWarning: The frame.append method is deprecated and will be removed from pandas in a future version. Use pandas.concat instead.\n",
      "  GME_rev_data = GME_rev_data.append({'Year': int(Year) , 'Revenue' : int(Revenue)} , ignore_index = True)\n",
      "C:\\Users\\siddh\\AppData\\Local\\Temp\\ipykernel_16076\\4291315426.py:9: FutureWarning: The frame.append method is deprecated and will be removed from pandas in a future version. Use pandas.concat instead.\n",
      "  GME_rev_data = GME_rev_data.append({'Year': int(Year) , 'Revenue' : int(Revenue)} , ignore_index = True)\n",
      "C:\\Users\\siddh\\AppData\\Local\\Temp\\ipykernel_16076\\4291315426.py:9: FutureWarning: The frame.append method is deprecated and will be removed from pandas in a future version. Use pandas.concat instead.\n",
      "  GME_rev_data = GME_rev_data.append({'Year': int(Year) , 'Revenue' : int(Revenue)} , ignore_index = True)\n",
      "C:\\Users\\siddh\\AppData\\Local\\Temp\\ipykernel_16076\\4291315426.py:9: FutureWarning: The frame.append method is deprecated and will be removed from pandas in a future version. Use pandas.concat instead.\n",
      "  GME_rev_data = GME_rev_data.append({'Year': int(Year) , 'Revenue' : int(Revenue)} , ignore_index = True)\n",
      "C:\\Users\\siddh\\AppData\\Local\\Temp\\ipykernel_16076\\4291315426.py:9: FutureWarning: The frame.append method is deprecated and will be removed from pandas in a future version. Use pandas.concat instead.\n",
      "  GME_rev_data = GME_rev_data.append({'Year': int(Year) , 'Revenue' : int(Revenue)} , ignore_index = True)\n",
      "C:\\Users\\siddh\\AppData\\Local\\Temp\\ipykernel_16076\\4291315426.py:9: FutureWarning: The frame.append method is deprecated and will be removed from pandas in a future version. Use pandas.concat instead.\n",
      "  GME_rev_data = GME_rev_data.append({'Year': int(Year) , 'Revenue' : int(Revenue)} , ignore_index = True)\n",
      "C:\\Users\\siddh\\AppData\\Local\\Temp\\ipykernel_16076\\4291315426.py:9: FutureWarning: The frame.append method is deprecated and will be removed from pandas in a future version. Use pandas.concat instead.\n",
      "  GME_rev_data = GME_rev_data.append({'Year': int(Year) , 'Revenue' : int(Revenue)} , ignore_index = True)\n",
      "C:\\Users\\siddh\\AppData\\Local\\Temp\\ipykernel_16076\\4291315426.py:9: FutureWarning: The frame.append method is deprecated and will be removed from pandas in a future version. Use pandas.concat instead.\n",
      "  GME_rev_data = GME_rev_data.append({'Year': int(Year) , 'Revenue' : int(Revenue)} , ignore_index = True)\n",
      "C:\\Users\\siddh\\AppData\\Local\\Temp\\ipykernel_16076\\4291315426.py:9: FutureWarning: The frame.append method is deprecated and will be removed from pandas in a future version. Use pandas.concat instead.\n",
      "  GME_rev_data = GME_rev_data.append({'Year': int(Year) , 'Revenue' : int(Revenue)} , ignore_index = True)\n",
      "C:\\Users\\siddh\\AppData\\Local\\Temp\\ipykernel_16076\\4291315426.py:9: FutureWarning: The frame.append method is deprecated and will be removed from pandas in a future version. Use pandas.concat instead.\n",
      "  GME_rev_data = GME_rev_data.append({'Year': int(Year) , 'Revenue' : int(Revenue)} , ignore_index = True)\n",
      "C:\\Users\\siddh\\AppData\\Local\\Temp\\ipykernel_16076\\4291315426.py:9: FutureWarning: The frame.append method is deprecated and will be removed from pandas in a future version. Use pandas.concat instead.\n",
      "  GME_rev_data = GME_rev_data.append({'Year': int(Year) , 'Revenue' : int(Revenue)} , ignore_index = True)\n"
     ]
    }
   ],
   "source": [
    "for row in GME_tables[0].find('tbody').find_all('tr'):\n",
    "    #print(row)\n",
    "    col = row.find_all('td')\n",
    "    Year = col[0].text\n",
    "    Revenue = col[1].text\n",
    "    Revenue = Revenue.replace('$','')\n",
    "    Revenue = Revenue.replace(',','')\n",
    "    \n",
    "    GME_rev_data = GME_rev_data.append({'Year': int(Year) , 'Revenue' : int(Revenue)} , ignore_index = True)\n",
    "    "
   ]
  },
  {
   "cell_type": "code",
   "execution_count": 142,
   "id": "4d3a3928-5ed2-4ccc-8554-49475c863c4b",
   "metadata": {
    "tags": []
   },
   "outputs": [
    {
     "data": {
      "text/html": [
       "<div>\n",
       "<style scoped>\n",
       "    .dataframe tbody tr th:only-of-type {\n",
       "        vertical-align: middle;\n",
       "    }\n",
       "\n",
       "    .dataframe tbody tr th {\n",
       "        vertical-align: top;\n",
       "    }\n",
       "\n",
       "    .dataframe thead th {\n",
       "        text-align: right;\n",
       "    }\n",
       "</style>\n",
       "<table border=\"1\" class=\"dataframe\">\n",
       "  <thead>\n",
       "    <tr style=\"text-align: right;\">\n",
       "      <th></th>\n",
       "      <th>Year</th>\n",
       "      <th>Revenue</th>\n",
       "    </tr>\n",
       "  </thead>\n",
       "  <tbody>\n",
       "    <tr>\n",
       "      <th>10</th>\n",
       "      <td>2013</td>\n",
       "      <td>8887</td>\n",
       "    </tr>\n",
       "    <tr>\n",
       "      <th>11</th>\n",
       "      <td>2012</td>\n",
       "      <td>9551</td>\n",
       "    </tr>\n",
       "    <tr>\n",
       "      <th>12</th>\n",
       "      <td>2011</td>\n",
       "      <td>9474</td>\n",
       "    </tr>\n",
       "    <tr>\n",
       "      <th>13</th>\n",
       "      <td>2010</td>\n",
       "      <td>9078</td>\n",
       "    </tr>\n",
       "    <tr>\n",
       "      <th>14</th>\n",
       "      <td>2009</td>\n",
       "      <td>8806</td>\n",
       "    </tr>\n",
       "  </tbody>\n",
       "</table>\n",
       "</div>"
      ],
      "text/plain": [
       "    Year Revenue\n",
       "10  2013    8887\n",
       "11  2012    9551\n",
       "12  2011    9474\n",
       "13  2010    9078\n",
       "14  2009    8806"
      ]
     },
     "execution_count": 142,
     "metadata": {},
     "output_type": "execute_result"
    }
   ],
   "source": [
    "GME_rev_data.tail(5)"
   ]
  },
  {
   "cell_type": "markdown",
   "id": "62125a9a-8777-4939-9e48-079617334eb0",
   "metadata": {},
   "source": [
    "## Question 5 : Plot the Tesla Stock Graph"
   ]
  },
  {
   "cell_type": "code",
   "execution_count": 154,
   "id": "a8899048-b076-4279-abea-a1c0e8907f0d",
   "metadata": {
    "tags": []
   },
   "outputs": [
    {
     "data": {
      "image/png": "[encoded data removed]",
      "text/plain": [
       "<Figure size 1000x300 with 1 Axes>"
      ]
     },
     "metadata": {},
     "output_type": "display_data"
    },
    {
     "data": {
      "image/png": "[encoded data removed]",
      "text/plain": [
       "<Figure size 1000x300 with 1 Axes>"
      ]
     },
     "metadata": {},
     "output_type": "display_data"
    }
   ],
   "source": [
    "make_graph('TESLA',tesla_stock_data, tesla_rev_data)"
   ]
  },
  {
   "cell_type": "markdown",
   "id": "9b64bed1-1d2f-40ac-8b7d-bbb63debe15f",
   "metadata": {
    "tags": []
   },
   "source": [
    "## Question 6 : Plot the GameStop Stock Graph"
   ]
  },
  {
   "cell_type": "code",
   "execution_count": 155,
   "id": "9d3d5548-91ab-4581-aa74-f8a09dd0c22f",
   "metadata": {
    "tags": []
   },
   "outputs": [
    {
     "data": {
      "image/png": "[encoded data removed]",
      "text/plain": [
       "<Figure size 1000x300 with 1 Axes>"
      ]
     },
     "metadata": {},
     "output_type": "display_data"
    },
    {
     "data": {
      "image/png": "[encoded data removed]",
      "text/plain": [
       "<Figure size 1000x300 with 1 Axes>"
      ]
     },
     "metadata": {},
     "output_type": "display_data"
    }
   ],
   "source": [
    "make_graph('GAMESTOP',GME_stock_data, GME_rev_data)"
   ]
  },
  {
   "cell_type": "code",
   "execution_count": null,
   "id": "341dfc84-a3c2-4e20-aaf5-b756f4950fbb",
   "metadata": {},
   "outputs": [],
   "source": []
  },
  {
   "cell_type": "code",
   "execution_count": 153,
   "id": "ca2b7acb-8315-4069-b217-180aa19f4960",
   "metadata": {
    "tags": []
   },
   "outputs": [],
   "source": [
    "def make_graph(stock_name ,stock_df , revenue_df):\n",
    "    title1 = 'Stock : ' + stock_name\n",
    "    title2 = 'Reveneue : ' + stock_name\n",
    "    stock_df.plot( x = 'Date' , y = 'Open' , title = title1 , figsize = (10,3))\n",
    "    revenue_df.plot( x = 'Year' , y = 'Revenue' , title = title2 , figsize = (10,3))\n",
    "    "
   ]
  }
 ],
 "metadata": {
  "kernelspec": {
   "display_name": "Python 3 (ipykernel)",
   "language": "python",
   "name": "python3"
  },
  "language_info": {
   "codemirror_mode": {
    "name": "ipython",
    "version": 3
   },
   "file_extension": ".py",
   "mimetype": "text/x-python",
   "name": "python",
   "nbconvert_exporter": "python",
   "pygments_lexer": "ipython3",
   "version": "3.11.2"
  }
 },
 "nbformat": 4,
 "nbformat_minor": 5
}
